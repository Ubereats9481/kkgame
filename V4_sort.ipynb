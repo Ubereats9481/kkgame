{
  "nbformat": 4,
  "nbformat_minor": 0,
  "metadata": {
    "colab": {
      "provenance": []
    },
    "kernelspec": {
      "name": "python3",
      "display_name": "Python 3"
    },
    "language_info": {
      "name": "python"
    }
  },
  "cells": [
    {
      "cell_type": "code",
      "source": [
        "from google.colab import drive\n",
        "drive.mount('/content/drive')"
      ],
      "metadata": {
        "colab": {
          "base_uri": "https://localhost:8080/"
        },
        "id": "HbU3z8gVqafP",
        "outputId": "3d7a4b56-579f-48f3-a2c5-efa06206b1dd"
      },
      "execution_count": null,
      "outputs": [
        {
          "output_type": "stream",
          "name": "stdout",
          "text": [
            "Mounted at /content/drive\n"
          ]
        }
      ]
    },
    {
      "cell_type": "code",
      "execution_count": null,
      "metadata": {
        "id": "aeVjIGVW0XQp"
      },
      "outputs": [],
      "source": [
        "import pandas as pd\n",
        "import numpy as np\n",
        "from pandas import read_parquet\n",
        "import random\n",
        "song_set = set()\n",
        "test_df = pd.read_csv(\"/content/drive/MyDrive/datagame/label_test_source.csv\")  # 也可以直接讀parquet，這邊只是先另存成csv\n",
        "test_df.sort_values(by=['session_id', \"listening_order\"], inplace=True)\n",
        "test_df.reset_index(inplace=True, drop=True)\n",
        "song = read_parquet(\"/content/drive/MyDrive/datagame/meta_song.parquet\")"
      ]
    },
    {
      "cell_type": "code",
      "source": [
        "# 存入所有的song_id (不重複)\n",
        "for i in range(len(test_df)):\n",
        "    song_set.add(test_df.song_id[i])\n",
        "for i in range(len(song)):\n",
        "    song_set.add(song.song_id[i])\n",
        "song_set = list(song_set)"
      ],
      "metadata": {
        "id": "12cXwgsS0zOW"
      },
      "execution_count": null,
      "outputs": []
    },
    {
      "cell_type": "code",
      "source": [
        "output = {\"session_id\":[], \"top1\":[], \"top2\":[], \"top3\":[], \"top4\":[], \"top5\":[]}\n",
        "global_used = set()\n",
        "for i in range(len(test_df) // 20):\n",
        "    tmp = {}\n",
        "    # count song_id in session\n",
        "    for j in test_df.loc[i * 20:(i + 1) * 20, \"song_id\"]:\n",
        "        if j in tmp:\n",
        "            tmp[j] += 1\n",
        "        else:\n",
        "            tmp[j] = 1\n",
        "    list_of_tuples = list(tmp.items())\n",
        "    list_of_tuples.sort(key=lambda x: x[1], reverse=True)\n",
        "\n",
        "    top_5_keys = []\n",
        "    used = []\n",
        "    stuck_idx = 0\n",
        "    for idx, x in enumerate(list_of_tuples):\n",
        "        if x[1] == 1:  # if only play 1 time\n",
        "            if stuck_idx == 0:\n",
        "                stuck_idx = idx\n",
        "            choose = random.randint(stuck_idx, len(list_of_tuples) - 1)  # 從前面只聽一次的歌曲裡面隨機選一個沒選過的\n",
        "            while choose in used:  # if already used, random another index\n",
        "                choose = random.randint(stuck_idx, len(list_of_tuples) - 1)\n",
        "            top_5_keys.append(list_of_tuples[choose][0])\n",
        "            global_used.add(list_of_tuples[choose][0])\n",
        "            used.append(choose)\n",
        "        else:\n",
        "            top_5_keys.append(x[0])\n",
        "            used.append(idx)\n",
        "            global_used.add(x[0])\n",
        "        if len(top_5_keys) == 5 or len(top_5_keys) == len(list_of_tuples):\n",
        "            break\n",
        "\n",
        "    for j in range(5 - len(top_5_keys)):  # 如果還不滿五首，就先補0\n",
        "        top_5_keys.append(0)\n",
        "\n",
        "    output[\"session_id\"].append(test_df.loc[i * 20, \"session_id\"])\n",
        "    for j in range(1, 6):\n",
        "        output[\"top\" + str(j)].append(top_5_keys[j - 1])"
      ],
      "metadata": {
        "id": "3zYsHCGI2y4J"
      },
      "execution_count": null,
      "outputs": []
    },
    {
      "cell_type": "code",
      "source": [
        "# 對於剛剛補0的部分，替換成隨機一首沒出現過的歌曲\n",
        "for i in range(1, 6):\n",
        "    for j in range(len(output[\"top\" + str(i)])):\n",
        "        if output[\"top\" + str(i)][j] == 0:\n",
        "            choose_song = random.choice(song_set)\n",
        "            while choose_song in global_used:  # 如果已經使用過，就再隨機選一首\n",
        "                choose_song = random.choice(song_set)\n",
        "            output[\"top\" + str(i)][j] = choose_song\n",
        "            global_used.add(choose_song)"
      ],
      "metadata": {
        "id": "t8b6rE5f7UdA"
      },
      "execution_count": null,
      "outputs": []
    },
    {
      "cell_type": "code",
      "source": [
        "pd.DataFrame(output).to_csv(\"/content/drive/MyDrive/datagame/sort_source.csv\", index=False)"
      ],
      "metadata": {
        "id": "JH-E9uMC4fNr"
      },
      "execution_count": null,
      "outputs": []
    }
  ]
}